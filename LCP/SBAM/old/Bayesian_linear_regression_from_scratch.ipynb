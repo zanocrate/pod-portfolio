{
 "cells": [
  {
   "cell_type": "markdown",
   "metadata": {},
   "source": [
    "## Linear Regression from Scratch"
   ]
  },
  {
   "cell_type": "markdown",
   "metadata": {},
   "source": [
    "Our first goal is to predict a linear model to fit some two-dimensional data.\n",
    "#### Generating Data\n",
    "We will begin by supposing a single model of a line in a two-dimensional plane, and we will add some noise to it, just for having some simple data to work with.\n",
    "\n",
    "$$y = \\beta_0 x + \\beta_1 $$\n",
    "with noise added, \n",
    "$$y = \\beta_0x + \\beta_1 +\\epsilon$$\n",
    "\n",
    "Or in the matrix form,\n",
    "$$Y=\\beta^T X + \\epsilon $$"
   ]
  }
 ],
 "metadata": {
  "interpreter": {
   "hash": "2b48686ecf5c051869e44bca573c1817bb1844fb32a5df209df0a7813f2e01a7"
  },
  "kernelspec": {
   "display_name": "Python 3.8.2 64-bit ('base': conda)",
   "language": "python",
   "name": "python3"
  },
  "language_info": {
   "codemirror_mode": {
    "name": "ipython",
    "version": 3
   },
   "file_extension": ".py",
   "mimetype": "text/x-python",
   "name": "python",
   "nbconvert_exporter": "python",
   "pygments_lexer": "ipython3",
   "version": "3.9.7"
  },
  "orig_nbformat": 4
 },
 "nbformat": 4,
 "nbformat_minor": 2
}
