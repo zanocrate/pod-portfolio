{
 "cells": [
  {
   "cell_type": "code",
   "execution_count": 13,
   "metadata": {},
   "outputs": [],
   "source": [
    "# importing stuff\n",
    "import numpy as np\n",
    "import matplotlib.pyplot as plt\n",
    "from matplotlib import cm"
   ]
  },
  {
   "cell_type": "code",
   "execution_count": 29,
   "metadata": {},
   "outputs": [],
   "source": [
    "# defining functions\n",
    "\n",
    "def func(x,y,b=20,q=0.1,w=10):\n",
    "    return b*(1-np.exp(-0.5*w*(x**2 + y**2))) + 0.5*q*(-x**3 + y)**2\n",
    "\n",
    "def grad_func(x,y,b=20,q=0.1,w=10):\n",
    "    gx = b*np.exp(-0.5*w*(x**2 + y**2))*w*x +-3*q*(x**2)*(-x**3 + y)\n",
    "    gy = b*np.exp(-0.5*w*(x**2 + y**2))*w*y + q*(-x**3 + y)\n",
    "    return [gx,gy]\n",
    "\n",
    "def func2(x,y,q=6):\n",
    "    return 1 + 0.5*q*(x**2 + y**2) - np.cos(2*np.pi*(x*y - y**2))\n",
    "\n",
    "def grad_func2(x,y,q=6):\n",
    "    gx = q*x + 2*np.pi*y*np.sin(2*np.pi*(x*y - y**2))\n",
    "    gy = q*y + 2*np.pi*(x-2*y)*np.sin(2*np.pi*(x*y - y**2))\n",
    "    return [gx,gy]"
   ]
  },
  {
   "cell_type": "code",
   "execution_count": 27,
   "metadata": {},
   "outputs": [],
   "source": [
    "# plotting surface functions\n",
    "\n",
    "def plot_surface(f,N=50):\n",
    "    x = np.linspace(-3,3,N)\n",
    "    y = np.linspace(-3,3,N)\n",
    "    xx,yy = np.meshgrid(x,y)\n",
    "    z = f(xx,yy)\n",
    "    fig = plt.figure(figsize=[8,8])\n",
    "    ax = fig.add_subplot(1,1,1,projection='3d')\n",
    "    ax.plot_surface(xx,yy,z,cmap=cm.viridis)\n",
    "    return fig,ax\n"
   ]
  },
  {
   "cell_type": "code",
   "execution_count": 31,
   "metadata": {},
   "outputs": [],
   "source": [
    "# copypasting algorithms from NB2\n",
    "\n",
    "#This writes a simple gradient descent, gradient descent+ momentum,\n",
    "#nesterov. \n",
    "\n",
    "#Mean-gradient based methods\n",
    "def gd(grad, init, n_epochs=1000, eta=10**-4, noise_strength=0):\n",
    "    #This is a simple optimizer\n",
    "    params=np.array(init)\n",
    "    param_traj=np.zeros([n_epochs+1,2])\n",
    "    param_traj[0,]=init\n",
    "    v=0;\n",
    "    for j in range(n_epochs):\n",
    "        noise=noise_strength*np.random.randn(params.size)\n",
    "        v=eta*(np.array(grad(params))+noise)\n",
    "        params=params-v\n",
    "        param_traj[j+1,]=params\n",
    "    return param_traj # returns an array of shape (n_epochs+1,n_dim) where the first item param_traj[0] is the initial condition\n",
    "                      # and the last item param_traj[-1] is the final parameters value\n",
    "\n",
    "\n",
    "def gd_with_mom(grad, init, n_epochs=5000, eta=10**-4, gamma=0.9,noise_strength=0):\n",
    "    params=np.array(init)\n",
    "    param_traj=np.zeros([n_epochs+1,2])\n",
    "    param_traj[0,]=init\n",
    "    v=0\n",
    "    for j in range(n_epochs):\n",
    "        noise=noise_strength*np.random.randn(params.size)\n",
    "        v=gamma*v+eta*(np.array(grad(params))+noise)\n",
    "        params=params-v\n",
    "        param_traj[j+1,]=params\n",
    "    return param_traj # same\n",
    "\n",
    "def NAG(grad, init, n_epochs=5000, eta=10**-4, gamma=0.9,noise_strength=0):\n",
    "    params=np.array(init)\n",
    "    param_traj=np.zeros([n_epochs+1,2])\n",
    "    param_traj[0,]=init\n",
    "    v=0\n",
    "    for j in range(n_epochs):\n",
    "        noise=noise_strength*np.random.randn(params.size)\n",
    "        params_nesterov=params-gamma*v\n",
    "        v=gamma*v+eta*(np.array(grad(params_nesterov))+noise)\n",
    "        params=params-v\n",
    "        param_traj[j+1,]=params\n",
    "    return param_traj # same"
   ]
  },
  {
   "cell_type": "code",
   "execution_count": null,
   "metadata": {},
   "outputs": [],
   "source": []
  }
 ],
 "metadata": {
  "interpreter": {
   "hash": "2b48686ecf5c051869e44bca573c1817bb1844fb32a5df209df0a7813f2e01a7"
  },
  "kernelspec": {
   "display_name": "Python 3.8.8 64-bit ('base': conda)",
   "language": "python",
   "name": "python3"
  },
  "language_info": {
   "codemirror_mode": {
    "name": "ipython",
    "version": 3
   },
   "file_extension": ".py",
   "mimetype": "text/x-python",
   "name": "python",
   "nbconvert_exporter": "python",
   "pygments_lexer": "ipython3",
   "version": "3.8.8"
  },
  "orig_nbformat": 4
 },
 "nbformat": 4,
 "nbformat_minor": 2
}
