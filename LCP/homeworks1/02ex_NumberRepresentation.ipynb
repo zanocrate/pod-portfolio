{
 "cells": [
  {
   "cell_type": "markdown",
   "source": [
    "1\\. Write a function that converts number representation (bin<->dec<->hex)"
   ],
   "metadata": {}
  },
  {
   "cell_type": "code",
   "execution_count": 11,
   "source": [
    "# exercise solution\n",
    "# implementing a class because it's easier to ask for a specific representation\n",
    "# only works for positive integers\n",
    "\n",
    "\n",
    "class Number:\n",
    "\n",
    "    # look up tables for hexadecimal symbol conversion\n",
    "\n",
    "    lookup_table_hex2bin = {\n",
    "        \"1\" : \"0001\",\n",
    "        \"2\" : \"0010\",\n",
    "        \"3\" : \"0011\",\n",
    "        \"4\" : \"0100\",\n",
    "        \"5\" : \"0101\",\n",
    "        \"6\" : \"0110\",\n",
    "        \"7\" : \"0111\",\n",
    "        \"8\" : \"1000\",\n",
    "        \"9\" : \"1001\",\n",
    "        \"A\" : \"1010\",\n",
    "        \"B\" : \"1011\",\n",
    "        \"C\" : \"1100\",\n",
    "        \"D\" : \"1101\",\n",
    "        \"E\" : \"1110\",\n",
    "        \"F\" : \"1111\"\n",
    "    }\n",
    "\n",
    "    lookup_table_bin2hex = dict((v,k) for k,v in lookup_table_hex2bin.items())\n",
    "\n",
    "    lookup_table_hex2dec = {\n",
    "        '1' : 1,\n",
    "        '2' : 2,\n",
    "        '3' : 3,\n",
    "        '4' : 4,\n",
    "        '5' : 5,\n",
    "        '6' : 6,\n",
    "        '7' : 7,\n",
    "        '8' : 8,\n",
    "        '9' : 9,\n",
    "        'A' : 10,\n",
    "        'B' : 11,\n",
    "        'C' : 12,\n",
    "        'D' : 13,\n",
    "        'E' : 14,\n",
    "        'F' : 15\n",
    "    }\n",
    "\n",
    "    lookup_table_dec2hex = dict((v,k) for k,v in lookup_table_hex2dec.items())\n",
    "\n",
    "    def __init__(self,num: str,typen: str):\n",
    "        self.value = num\n",
    "        self.type = typen\n",
    "\n",
    "    def set_value(self,num: str,typen: str):\n",
    "        self.value = num\n",
    "        self.type = typen\n",
    "\n",
    "    # binary representation \n",
    "    def binary(self):\n",
    "        # binary to binary\n",
    "        if self.type == \"bin\":\n",
    "            print(\"Binary representation: {}\".format(self.value))\n",
    "        \n",
    "        # decimal to binary\n",
    "        elif self.type == \"dec\":\n",
    "            binary_rep = \"\"\n",
    "            temp_n = int(self.value)\n",
    "            while temp_n > 0:\n",
    "                binary_rep += str(temp_n % 2)\n",
    "                temp_n = temp_n // 2\n",
    "            \n",
    "            print(\"The binary representation of {} is {}\".format(self.value,binary_rep))\n",
    "\n",
    "        # hexadecimal to binary\n",
    "        elif self.type == \"hex\":\n",
    "            binary_rep = \"\"\n",
    "            for digit in self.value[::-1]:\n",
    "                binary_rep = self.lookup_table_hex2bin[digit] + binary_rep\n",
    "            print(\"The binary representation of {} is {}\".format(self.value,binary_rep))\n",
    "        else:\n",
    "            print(\"Invalid representation type. Specify using set_value method.\")\n",
    "    \n",
    "    # hexadecimal representation\n",
    "    def hex(self):\n",
    "        # binary to hexadecimal\n",
    "        hex_rep = \"\"\n",
    "        if self.type == \"bin\":\n",
    "            \n",
    "            #slicing up in groups of 4\n",
    "            for n in range(0,len(self.value),4):\n",
    "                # a 'nibble' is a group of 4 bits\n",
    "                nibble=self.value[::-1][n:n+4][::-1]\n",
    "                \n",
    "                # correcting short values\n",
    "                if len(nibble)<4:\n",
    "                    nibble='0'*(4-len(nibble)%4)+nibble\n",
    "\n",
    "                hex_rep=self.lookup_table_bin2hex[nibble]+hex_rep\n",
    "            \n",
    "            print(\"The hexadecimal representation of {} is {}\".format(self.value,hex_rep))\n",
    "        \n",
    "        # decimal to hexadecimal\n",
    "        elif self.type == \"dec\":\n",
    "            temp_n = int(self.value)\n",
    "            hex_rep = \"\"\n",
    "            \n",
    "            while temp_n > 0:\n",
    "                hex_rep = str(self.lookup_table_dec2hex[temp_n%16]) + hex_rep\n",
    "                temp_n = temp_n // 16\n",
    "\n",
    "            print(\"The hexadecimal representation of {} is {}\".format(self.value,hex_rep))\n",
    "\n",
    "        else:\n",
    "            print(\"Invalid representation type. Specify using set_value method.\")\n",
    "\n",
    "    def dec(self):\n",
    "        # binary to decimal\n",
    "        if self.type == \"bin\":\n",
    "            decimal = 0\n",
    "            for exp,digit in enumerate(self.value[::-1]):\n",
    "                decimal += int(digit)*2**exp\n",
    "            \n",
    "            print(\"The decimal representation of {} is {}\".format(self.value,decimal))\n",
    "\n",
    "        # hexadecimal to decimal\n",
    "        elif self.type == \"hex\":\n",
    "            decimal = 0\n",
    "            for exp,digit in enumerate(self.value[::-1]):\n",
    "                decimal += int(self.lookup_table_hex2dec[digit])*16**exp\n",
    "\n",
    "            print(\"The decimal representation of {} is {}\".format(self.value,decimal))\n",
    "\n",
    "        else:\n",
    "            print(\"Invalid representation type. Specify using set_value method.\")\n",
    "\n",
    "                \n",
    "\n",
    "# let's test this\n",
    "\n",
    "\n",
    "num = Number(\"27\",\"dec\")\n",
    "num.binary()\n",
    "num.hex()\n",
    "num.set_value(\"3A\",\"hex\")\n",
    "num.binary()\n",
    "num.dec()\n",
    "num.set_value(\"1101101101100\",\"bin\")\n",
    "num.hex()\n",
    "num.dec()\n"
   ],
   "outputs": [
    {
     "output_type": "stream",
     "name": "stdout",
     "text": [
      "The binary representation of 27 is 11011\n",
      "The hexadecimal representation of 27 is 1B\n",
      "The binary representation of 3A is 00111010\n",
      "The decimal representation of 3A is 58\n",
      "The hexadecimal representation of 1101101101100 is 1B6C\n",
      "The decimal representation of 1101101101100 is 7020\n"
     ]
    }
   ],
   "metadata": {}
  },
  {
   "cell_type": "markdown",
   "source": [
    "2\\. Write a function that converts a 32 bit word into a single precision floating point (i.e. interprets the various bits as sign, mantissa and exponent)"
   ],
   "metadata": {}
  },
  {
   "cell_type": "code",
   "execution_count": 12,
   "source": [
    "def word2float(num: str):\n",
    "    #exponent bias\n",
    "    bias = 127\n",
    "    if len(num) != 32: print(\"Please provide a 32 bit word.\")\n",
    "    else:\n",
    "        exp=0\n",
    "\n",
    "        for e,digit in enumerate(num[1:9][::-1]):\n",
    "            exp+= int(digit)*2**e\n",
    "\n",
    "        mant = 1.\n",
    "\n",
    "        for e,digit in enumerate(num[9:]):\n",
    "            mant += int(digit)*2**(-e-1)\n",
    "\n",
    "        return ((-1)**int(num[0]))*(mant*2**(exp-bias))\n",
    "\n",
    "word = '11000001010110100000000000000000' # -13.625\n",
    "word2float(word)\n"
   ],
   "outputs": [
    {
     "output_type": "execute_result",
     "data": {
      "text/plain": [
       "-13.625"
      ]
     },
     "metadata": {},
     "execution_count": 12
    }
   ],
   "metadata": {}
  },
  {
   "cell_type": "markdown",
   "source": [
    "3\\. Write a program to determine the underflow and overflow limits (within a factor of 2) for python on your computer. \n",
    "\n",
    "**Tips**: define two variables inizialized to 1 and halve/double them enough time to exceed the under/over-flow limits  "
   ],
   "metadata": {}
  },
  {
   "cell_type": "code",
   "execution_count": 13,
   "source": [
    "# looks like python transform any number exceeding\n",
    "import sys\n",
    "print(sys.float_info.max)\n",
    "# into INFINITY, i.e.:\n",
    "print(sys.float_info.max+1)\n",
    "print(sys.float_info.max*1.0000001)\n",
    "print(sys.float_info.max*2)\n",
    "\n",
    "a = 1. \n",
    "while a!=float('inf'):\n",
    "    b=a\n",
    "    a*=2\n",
    "\n",
    "print('Overflow reached while doubling ',b)\n",
    "\n",
    "a=1.\n",
    "\n",
    "while a!=0:\n",
    "    b=a\n",
    "    a/=2.\n",
    "\n",
    "print('Underflow reached while halving ',b)\n"
   ],
   "outputs": [
    {
     "output_type": "stream",
     "name": "stdout",
     "text": [
      "1.7976931348623157e+308\n",
      "1.7976931348623157e+308\n",
      "inf\n",
      "inf\n",
      "Overflow reached while doubling  8.98846567431158e+307\n",
      "Underflow reached while halving  5e-324\n"
     ]
    }
   ],
   "metadata": {}
  },
  {
   "cell_type": "markdown",
   "source": [
    "4\\. Write a program to determine the machine precision\n",
    "\n",
    "**Tips**: define a new variable by adding a smaller and smaller value (proceeding similarly to prob. 2) to an original variable and check the point where the two are the same "
   ],
   "metadata": {}
  },
  {
   "cell_type": "code",
   "execution_count": 14,
   "source": [
    "test = 3.14\n",
    "e = 1.\n",
    "while (test+e) != test:\n",
    "    a=e\n",
    "    e/=2.\n",
    "\n",
    "print(\"EPS reached for \",a)\n"
   ],
   "outputs": [
    {
     "output_type": "stream",
     "name": "stdout",
     "text": [
      "EPS reached for  2.220446049250313e-16\n"
     ]
    }
   ],
   "metadata": {}
  },
  {
   "cell_type": "markdown",
   "source": [
    "5\\. Write a function that takes in input three parameters $a$, $b$ and $c$ and prints out the two solutions to the quadratic equation $ax^2+bx+c=0$ using the standard formula:\n",
    "$$\n",
    "x=\\frac{-b\\pm\\sqrt{b^2-4ac}}{2a}\n",
    "$$\n",
    "\n",
    "(a) use the program to compute the solution for $a=0.001$, $b=1000$ and $c=0.001$\n",
    "\n",
    "(b) re-express the standard solution formula by multiplying top and bottom by $-b\\mp\\sqrt{b^2-4ac}$ and again find the solution for $a=0.001$, $b=1000$ and $c=0.001$. How does it compare with what previously obtained? Why?\n",
    "\n",
    "(c) write a function that compute the roots of a quadratic equation accurately in all cases"
   ],
   "metadata": {}
  },
  {
   "cell_type": "code",
   "execution_count": 15,
   "source": [
    "a,b,c = 0.001,1000,0.001\n",
    "\n",
    "def quadratic_roots(a,b,c):\n",
    "    det = (b**2 - 4*a*c)**(0.5)\n",
    "    return (-b+det)/(2*a) , (-b-det)/(2*a)\n",
    "\n",
    "def quadratic_roots_alt(a,b,c):\n",
    "    det = (b**2 - 4*a*c)**(0.5)\n",
    "    return (2*c)/(-b - det) , (2*c)/(-b + det)\n",
    "\n",
    "print(quadratic_roots(a,b,c))\n",
    "print(quadratic_roots_alt(a,b,c))\n",
    "\n",
    "# when computing the determinant, a difference between 10e6 and 4*10e-6 needs to be computed.\n",
    "# so det is almost equal to b and the difference between such large numbers with such small difference\n",
    "# results in a number that overall has the order of magnitude of the difference but far less significant digits,\n",
    "# depending on the order of magnitude of b.\n",
    "# in order to avoid such problem, we could implement an algorithm that uses the first formula for calculating \n",
    "# the second root (avoiding this difference) and the second formula for calculating the first root (again avoiding the difference)\n",
    "# (if b is positive, otherwise it's the other way around)\n",
    "\n",
    "def quadratic_roots_ultimate(a,b,c):\n",
    "    det = (b**2 - 4*a*c)**(0.5)\n",
    "    if b>0:\n",
    "        return (2*c)/(-b - det), (-b - det)/(2*a)\n",
    "    if b<0:\n",
    "        return(-b+det)/(2*a) , (2*c)/(-b+det)\n",
    "\n",
    "print(quadratic_roots_ultimate(a,b,c))\n",
    "\n",
    "\n"
   ],
   "outputs": [
    {
     "output_type": "stream",
     "name": "stdout",
     "text": [
      "(-9.999894245993346e-07, -999999.999999)\n",
      "(-1.000000000001e-06, -1000010.5755125057)\n",
      "(-1.000000000001e-06, -999999.999999)\n"
     ]
    }
   ],
   "metadata": {}
  },
  {
   "cell_type": "markdown",
   "source": [
    "6\\. Write a program that implements the function $f(x)=x(x−1)$\n",
    "\n",
    "(a) Calculate the derivative of the function at the point $x = 1$ using the derivative definition:\n",
    "\n",
    "$$\n",
    "\\frac{{\\rm d}f}{{\\rm d}x} = \\lim_{\\delta\\to0} \\frac{f(x+\\delta)-f(x)}{\\delta}\n",
    "$$\n",
    "\n",
    "with $\\delta = 10^{−2}$. Calculate the true value of the same derivative analytically and compare with the answer your program gives. The two will not agree perfectly. Why not?\n",
    "\n",
    "(b) Repeat the calculation for $\\delta = 10^{−4}, 10^{−6}, 10^{−8}, 10^{−10}, 10^{−12}$ and $10^{−14}$. How does the accuracy scales with $\\delta$?"
   ],
   "metadata": {}
  },
  {
   "cell_type": "code",
   "execution_count": 16,
   "source": [
    "def deriv(f,x,delta):\n",
    "    return (f(x+delta)-f(x))/delta\n",
    "\n",
    "print(\"Derivative of x(x-1) evaluated at 1 using finite difference 0.01: \\n\",deriv(lambda x: x*(x-1),1,0.01))\n",
    "print(\"Derivative of x(x-1) evaluated at 1 using analytic expression:\\n\", 1)\n",
    "\n",
    "# the numerical differentiation of any f(x) returns a value with an analytical error that grows\n",
    "# approximately in a linear fashion with the second derivative of f(x) (here equal to 1) and h\n",
    "# also we need to account for the round off error due to floating point representation.\n",
    "# worst case scenario is maximum error on f(x+delta) and maximum but opposed sign on f(x). \n",
    "# accounting for the roundoff error produces then another contribution to the total error equal to 2*eps/delta\n",
    "# so actually smaller deltas amplify the round off error. we can see this by computing the\n",
    "# numerical differentiation with progressively smaller deltas:\n",
    "\n",
    "print(\"Evaluating the derivative using shorter step\")\n",
    "for ex in [4,6,8,10,12,14]:\n",
    "    d = float(\"1e-{}\".format(ex))\n",
    "    print(deriv(lambda x: x*(x-1),1,d))\n",
    "    \n"
   ],
   "outputs": [
    {
     "output_type": "stream",
     "name": "stdout",
     "text": [
      "Derivative of x(x-1) evaluated at 1 using finite difference 0.01: \n",
      " 1.010000000000001\n",
      "Derivative of x(x-1) evaluated at 1 using analytic expression:\n",
      " 1\n",
      "Evaluating the derivative using shorter step\n",
      "1.0000999999998899\n",
      "1.0000009999177333\n",
      "1.0000000039225287\n",
      "1.000000082840371\n",
      "1.0000889005833413\n",
      "0.9992007221626509\n"
     ]
    }
   ],
   "metadata": {}
  },
  {
   "cell_type": "markdown",
   "source": [
    "7\\. Consider the integral of the semicircle of radius 1:\n",
    "$$\n",
    "I=\\int_{-1}^{1} \\sqrt(1-x^2) {\\rm d}x\n",
    "$$\n",
    "which it's known to be $I=\\frac{\\pi}{2}=1.57079632679...$.\n",
    "Alternatively we can use the Riemann definition of the integral:\n",
    "$$\n",
    "I=\\lim_{N\\to\\infty} \\sum_{k=1}^{N} h y_k \n",
    "$$\n",
    "\n",
    "with $h=2/N$ the width of each of the $N$ slices the domain is divided into and where\n",
    "$y_k$ is the value of the function at the $k-$th slice.\n",
    "\n",
    "(a) Write a programe to compute the integral with $N=100$. How does the result compares to the true value?\n",
    "\n",
    "(b) How much can $N$ be increased if the computation needs to be run in less than a second? What is the gain in running it for 1 minute? \n"
   ],
   "metadata": {}
  },
  {
   "cell_type": "code",
   "execution_count": 17,
   "source": [
    "def integrate(f,a,b,N):\n",
    "    if a>b:\n",
    "        print(\"Wrong order of integration extrema\")\n",
    "        return\n",
    "    # integration step\n",
    "    h = (b-a)/N\n",
    "    I=0\n",
    "    for i in range(N):\n",
    "        I+= h*f(a+i*h)\n",
    "    return I\n",
    "\n",
    "circ = lambda x: (1-x**2)**(0.5)\n",
    "\n",
    "import time\n",
    "from math import pi\n",
    "\n",
    "tdiff = 0\n",
    "N=10\n",
    "while tdiff < 1:\n",
    "    N*=10 \n",
    "    tic = time.time() \n",
    "    I=integrate(circ,-1,1,N)\n",
    "    toc = time.time()\n",
    "    tdiff = toc-tic # measured in seconds\n",
    "\n",
    "print(\"In order to run the computation in less than a second N needs to be smaller than {} (lower bound accurate within a factor of 10)\".format(N/10))\n",
    "print(\" This returns the integral value of {}, which differs from the analytical known value by {}\".format(I,(pi/2 - I)))\n",
    "\n",
    "while tdiff < 60:\n",
    "    N*=10 \n",
    "    tic = time.time() \n",
    "    I=integrate(circ,-1,1,N)\n",
    "    toc = time.time()\n",
    "    tdiff = toc-tic # measured in seconds\n",
    "\n",
    "\n",
    "print(\"Letting the computation run for a minute reduces the error to {}\".format(pi/2 - I))\n"
   ],
   "outputs": [
    {
     "output_type": "stream",
     "name": "stdout",
     "text": [
      "In order to run the computation in less than a second N needs to be smaller than 1000000.0 (lower bound accurate within a factor of 10)\n",
      " This returns the integral value of 1.5707963267423612, which differs from the analytical known value by 5.253530943605256e-11\n",
      "Letting the computation run for a minute reduces the error to 4.347189275222263e-12\n"
     ]
    }
   ],
   "metadata": {}
  },
  {
   "cell_type": "code",
   "execution_count": null,
   "source": [],
   "outputs": [],
   "metadata": {}
  }
 ],
 "metadata": {
  "kernelspec": {
   "name": "python3",
   "display_name": "Python 3.8.8 64-bit ('base': conda)"
  },
  "language_info": {
   "codemirror_mode": {
    "name": "ipython",
    "version": 3
   },
   "file_extension": ".py",
   "mimetype": "text/x-python",
   "name": "python",
   "nbconvert_exporter": "python",
   "pygments_lexer": "ipython3",
   "version": "3.8.8"
  },
  "interpreter": {
   "hash": "a3c34d53b0b4d70da62f7b5a080d8239056f030c25ec722ce0a2734d501a65c4"
  }
 },
 "nbformat": 4,
 "nbformat_minor": 2
}