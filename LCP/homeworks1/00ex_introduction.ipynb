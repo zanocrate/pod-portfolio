{
 "cells": [
  {
   "cell_type": "markdown",
   "metadata": {},
   "source": [
    "1. The MickeyMouse problem\n",
    "\n",
    "a) Write a program that prints the numbers from 1 to 100. But for multiples of three print Mickey instead of the number and for the multiples of five print Mouse. For numbers which are multiples of both three and five print MickeyMouse\n",
    "\n",
    "b) Put the result in a tuple and substitute Mickey with Donald and Mouse with Duck"
   ]
  },
  {
   "cell_type": "code",
   "execution_count": 7,
   "metadata": {},
   "outputs": [
    {
     "name": "stdout",
     "output_type": "stream",
     "text": [
      "(1, 2, 'Mickey', 4, 'Mouse', 'Mickey', 7, 8, 'Mickey', 'Mouse', 11, 'Mickey', 13, 14, 'MickeyMouse', 16, 17, 'Mickey', 19, 'Mouse', 'Mickey', 22, 23, 'Mickey', 'Mouse', 26, 'Mickey', 28, 29, 'MickeyMouse', 31, 32, 'Mickey', 34, 'Mouse', 'Mickey', 37, 38, 'Mickey', 'Mouse', 41, 'Mickey', 43, 44, 'MickeyMouse', 46, 47, 'Mickey', 49, 'Mouse', 'Mickey', 52, 53, 'Mickey', 'Mouse', 56, 'Mickey', 58, 59, 'MickeyMouse', 61, 62, 'Mickey', 64, 'Mouse', 'Mickey', 67, 68, 'Mickey', 'Mouse', 71, 'Mickey', 73, 74, 'MickeyMouse', 76, 77, 'Mickey', 79, 'Mouse', 'Mickey', 82, 83, 'Mickey', 'Mouse', 86, 'Mickey', 88, 89, 'MickeyMouse', 91, 92, 'Mickey', 94, 'Mouse', 'Mickey', 97, 98, 'Mickey', 'Mouse')\n",
      "(1, 2, 'Donald', 4, 'Duck', 'Donald', 7, 8, 'Donald', 'Duck', 11, 'Donald', 13, 14, 'DonaldDuck', 16, 17, 'Donald', 19, 'Duck', 'Donald', 22, 23, 'Donald', 'Duck', 26, 'Donald', 28, 29, 'DonaldDuck', 31, 32, 'Donald', 34, 'Duck', 'Donald', 37, 38, 'Donald', 'Duck', 41, 'Donald', 43, 44, 'DonaldDuck', 46, 47, 'Donald', 49, 'Duck', 'Donald', 52, 53, 'Donald', 'Duck', 56, 'Donald', 58, 59, 'DonaldDuck', 61, 62, 'Donald', 64, 'Duck', 'Donald', 67, 68, 'Donald', 'Duck', 71, 'Donald', 73, 74, 'DonaldDuck', 76, 77, 'Donald', 79, 'Duck', 'Donald', 82, 83, 'Donald', 'Duck', 86, 'Donald', 88, 89, 'DonaldDuck', 91, 92, 'Donald', 94, 'Duck', 'Donald', 97, 98, 'Donald', 'Duck')\n"
     ]
    }
   ],
   "source": [
    "def mickeymouse(i):\n",
    "    if i % 15 == 0:\n",
    "        return \"MickeyMouse\"\n",
    "    elif i % 5 == 0:\n",
    "        return \"Mouse\"\n",
    "    elif i % 3 == 0:\n",
    "        return \"Mickey\"\n",
    "    else:\n",
    "        return i\n",
    "    \n",
    "result = tuple((mickeymouse(i) for i in range(1,101)))\n",
    "print(result)        \n",
    "\n",
    "# tuples are immutable?\n",
    "\n",
    "def substiquack(i):\n",
    "    if isinstance(i,str):\n",
    "        return i.replace('Mickey','Donald').replace('Mouse','Duck')\n",
    "    else:\n",
    "        return i\n",
    "    \n",
    "result2 = tuple((substiquack(i) for i in result))\n",
    "print(result2)"
   ]
  },
  {
   "cell_type": "markdown",
   "metadata": {},
   "source": [
    "2\\. The swap function\n",
    "\n",
    "Write a function that swap the values of two input variables x and y (whatever the type). Try to do that also without a temporary variable"
   ]
  },
  {
   "cell_type": "code",
   "execution_count": 9,
   "metadata": {},
   "outputs": [
    {
     "data": {
      "text/plain": [
       "(2, 1)"
      ]
     },
     "execution_count": 9,
     "metadata": {},
     "output_type": "execute_result"
    }
   ],
   "source": [
    "def swap(x,y):\n",
    "    return (y,x)\n",
    "\n",
    "swap(1,2)"
   ]
  },
  {
   "cell_type": "markdown",
   "metadata": {},
   "source": [
    "3\\. Computing the distance\n",
    "\n",
    "Write a function that calculates and returns the euclidean distance between two points *u* and *v*, where *u* and *v* are both 2-tuples *(x,y)*. For example, if *u=(3,0)* and *v=(0,4)*, the function should return 5"
   ]
  },
  {
   "cell_type": "code",
   "execution_count": 11,
   "metadata": {},
   "outputs": [
    {
     "data": {
      "text/plain": [
       "5.0"
      ]
     },
     "execution_count": 11,
     "metadata": {},
     "output_type": "execute_result"
    }
   ],
   "source": [
    "def d2(u,v):\n",
    "    return ((u[0]-v[0])**2 + (u[1]-v[1])**2)**(1/2)\n",
    "\n",
    "d2((3,0),(0,4))"
   ]
  },
  {
   "cell_type": "markdown",
   "metadata": {},
   "source": [
    "4\\. Counting letters\n",
    "\n",
    "Write a program to calculate the number of times each character occurs in a given string *s*. Ignore differneces in capitalization"
   ]
  },
  {
   "cell_type": "code",
   "execution_count": 11,
   "metadata": {},
   "outputs": [
    {
     "name": "stdout",
     "output_type": "stream",
     "text": [
      "Counter({' ': 41, 'e': 22, 't': 19, 'r': 17, 'i': 14, 'o': 13, 'm': 12, 'n': 10, 'f': 10, 'h': 9, 's': 9, 'u': 9, 'p': 8, 'a': 7, 'l': 6, 'b': 5, 'c': 3, 'd': 3, 'w': 2, '1': 2, '0': 2, '.': 2, 'k': 2, 'y': 2, 'v': 2, 'g': 1})\n",
      "{'w': 2, 'r': 17, 'i': 14, 't': 19, 'e': 22, ' ': 41, 'a': 7, 'p': 8, 'o': 13, 'g': 1, 'm': 12, 'h': 9, 'n': 10, 's': 9, 'u': 9, 'b': 5, 'f': 10, '1': 2, '0': 2, '.': 2, 'l': 6, 'c': 3, 'k': 2, 'y': 2, 'd': 3, 'v': 2}\n"
     ]
    }
   ],
   "source": [
    "s=\"Write a program that prints the numbers from 1 to 100. \\\n",
    "But for multiples of three print Mickey instead of the number and for the multiples of five print Mouse. \\\n",
    "For numbers which are multiples of both three and five print MickeyMouse\"\n",
    "\n",
    "#using Counter object from collections package\n",
    "\n",
    "from collections import Counter\n",
    "count1 = Counter(s.lower())\n",
    "print(count1)\n",
    "\n",
    "#building our own dictionary\n",
    "count2 = {}\n",
    "for char in s.lower():\n",
    "    if char in count2:\n",
    "        count2[char] += 1\n",
    "    else:\n",
    "        count2[char] = 1\n",
    "\n",
    "print(count2)"
   ]
  },
  {
   "cell_type": "markdown",
   "metadata": {},
   "source": [
    "5\\. Isolating the unique\n",
    "\n",
    "Write a function that determines and count the unique numbers in the list *l*"
   ]
  },
  {
   "cell_type": "code",
   "execution_count": 22,
   "metadata": {},
   "outputs": [
    {
     "name": "stdout",
     "output_type": "stream",
     "text": [
      "{1, 3, 5, 8, 9, 10, 16, 18, 19, 20, 24, 30, 31, 33, 34, 36, 37, 39, 41, 42, 45, 47, 50, 51, 53, 54, 55, 56, 57, 58, 63, 64, 66, 70, 72, 74, 75, 79, 81, 82, 84, 85, 86, 87, 88, 89, 90, 91, 92, 94, 95, 96, 98, 99}\n",
      "54 unique numbers\n"
     ]
    }
   ],
   "source": [
    "l = [36, 45, 58, 3, 74, 96, 64, 45, 31, 10, 24, 19, 33, 86, 99, 18, 63, 70, 85,\n",
    " 85, 63, 47, 56, 42, 70, 84, 88, 55, 20, 54, 8, 56, 51, 79, 81, 57, 37, 91,\n",
    " 1, 84, 84, 36, 66, 9, 89, 50, 42, 91, 50, 95, 90, 98, 39, 16, 82, 31, 92, 41,\n",
    " 45, 30, 66, 70, 34, 85, 94, 5, 3, 36, 72, 91, 84, 34, 87, 75, 53, 51, 20, 89, 51, 20]\n",
    "\n",
    "# using standard set object\n",
    "set_l = set(l)\n",
    "print(set_l)\n",
    "print(len(set_l),'unique numbers')"
   ]
  },
  {
   "cell_type": "markdown",
   "metadata": {},
   "source": [
    "6\\. Combination of functions\n",
    "\n",
    "Write two functions - one that returns the square of a number, and one that returns the cube. Now write a third function that returns the number raised to the 6th power using the two previous functions."
   ]
  },
  {
   "cell_type": "code",
   "execution_count": 23,
   "metadata": {},
   "outputs": [
    {
     "name": "stdout",
     "output_type": "stream",
     "text": [
      "64\n"
     ]
    }
   ],
   "source": [
    "def square(x):\n",
    "    return x**2\n",
    "def cube(x):\n",
    "    return x**3\n",
    "def sixth(x):\n",
    "    return square(cube(x))\n",
    "\n",
    "print(sixth(2))\n"
   ]
  },
  {
   "cell_type": "markdown",
   "metadata": {},
   "source": [
    "7\\. Cubes\n",
    "\n",
    "Create a list of the cubes of x for x in *[0, 10]* using:\n",
    "\n",
    "a) a for loop\n",
    "\n",
    "b) a list comprehension"
   ]
  },
  {
   "cell_type": "code",
   "execution_count": 25,
   "metadata": {},
   "outputs": [
    {
     "name": "stdout",
     "output_type": "stream",
     "text": [
      "[0, 1, 8, 27, 64, 125, 216, 343, 512, 729, 1000]\n",
      "[0, 1, 8, 27, 64, 125, 216, 343, 512, 729, 1000]\n"
     ]
    }
   ],
   "source": [
    "# a\n",
    "lista1 = []\n",
    "for x in range(0,11):\n",
    "    lista1.append(x**3)\n",
    "    \n",
    "#b\n",
    "\n",
    "lista2 = [x**3 for x in range(0,11)]\n",
    "\n",
    "print(lista1)\n",
    "print(lista2)"
   ]
  },
  {
   "cell_type": "markdown",
   "metadata": {},
   "source": [
    "8\\. Nested list comprehension\n",
    "\n",
    "A Pythagorean triple is an integer solution to the Pythagorean theorem $a^2+b^2=c^2$. The first Pythagorean triple is (3,4,5). Find and put in a tuple all unique Pythagorean triples for the positive integers a, b and c less than 100."
   ]
  },
  {
   "cell_type": "code",
   "execution_count": 4,
   "metadata": {},
   "outputs": [
    {
     "name": "stdout",
     "output_type": "stream",
     "text": [
      "(3, 4, 5.0)\n",
      "(5, 12, 13.0)\n",
      "(6, 8, 10.0)\n",
      "(7, 24, 25.0)\n",
      "(8, 15, 17.0)\n",
      "(9, 12, 15.0)\n",
      "(9, 40, 41.0)\n",
      "(10, 24, 26.0)\n",
      "(11, 60, 61.0)\n",
      "(12, 16, 20.0)\n",
      "(12, 35, 37.0)\n",
      "(13, 84, 85.0)\n",
      "(14, 48, 50.0)\n",
      "(15, 20, 25.0)\n",
      "(15, 36, 39.0)\n",
      "(16, 30, 34.0)\n",
      "(16, 63, 65.0)\n",
      "(18, 24, 30.0)\n",
      "(18, 80, 82.0)\n",
      "(20, 21, 29.0)\n",
      "(20, 48, 52.0)\n",
      "(21, 28, 35.0)\n",
      "(21, 72, 75.0)\n",
      "(24, 32, 40.0)\n",
      "(24, 45, 51.0)\n",
      "(24, 70, 74.0)\n",
      "(25, 60, 65.0)\n",
      "(27, 36, 45.0)\n",
      "(28, 45, 53.0)\n",
      "(28, 96, 100.0)\n",
      "(30, 40, 50.0)\n",
      "(30, 72, 78.0)\n",
      "(32, 60, 68.0)\n",
      "(33, 44, 55.0)\n",
      "(33, 56, 65.0)\n",
      "(35, 84, 91.0)\n",
      "(36, 48, 60.0)\n",
      "(36, 77, 85.0)\n",
      "(39, 52, 65.0)\n",
      "(39, 80, 89.0)\n",
      "(40, 42, 58.0)\n",
      "(40, 75, 85.0)\n",
      "(42, 56, 70.0)\n",
      "(45, 60, 75.0)\n",
      "(48, 55, 73.0)\n",
      "(48, 64, 80.0)\n",
      "(51, 68, 85.0)\n",
      "(54, 72, 90.0)\n",
      "(57, 76, 95.0)\n",
      "(60, 63, 87.0)\n",
      "(60, 80, 100.0)\n",
      "(65, 72, 97.0)\n"
     ]
    }
   ],
   "source": [
    "for a in range(1,101):\n",
    "    for b in range(a,101):\n",
    "        c = (a**2 + b**2)**(1/2)\n",
    "        if c.is_integer() and c<=100:\n",
    "            print((a,b,c))\n",
    "            \n",
    "        "
   ]
  },
  {
   "cell_type": "markdown",
   "metadata": {},
   "source": [
    "9\\. Normalization\n",
    "\n",
    "Write a function that takes a tuple of numbers and returns it with the entries normalized to one"
   ]
  },
  {
   "cell_type": "code",
   "execution_count": 5,
   "metadata": {},
   "outputs": [
    {
     "data": {
      "text/plain": [
       "(0.48507125007266594, 0.7276068751089989, 0.48507125007266594)"
      ]
     },
     "execution_count": 5,
     "metadata": {},
     "output_type": "execute_result"
    }
   ],
   "source": [
    "def normalize_tuple(tup):\n",
    "    norm = 0\n",
    "    for x in tup:\n",
    "        norm += x**2\n",
    "    return tuple([y/(norm**(1/2)) for y in tup])\n",
    "\n",
    "normalize_tuple((2,3,2))\n"
   ]
  },
  {
   "cell_type": "code",
   "execution_count": null,
   "metadata": {},
   "outputs": [],
   "source": []
  }
 ],
 "metadata": {
  "kernelspec": {
   "display_name": "Python 3",
   "language": "python",
   "name": "python3"
  },
  "language_info": {
   "codemirror_mode": {
    "name": "ipython",
    "version": 3
   },
   "file_extension": ".py",
   "mimetype": "text/x-python",
   "name": "python",
   "nbconvert_exporter": "python",
   "pygments_lexer": "ipython3",
   "version": "3.8.8"
  }
 },
 "nbformat": 4,
 "nbformat_minor": 2
}
