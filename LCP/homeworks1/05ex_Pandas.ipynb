{
 "cells": [
  {
   "cell_type": "markdown",
   "source": [
    "## Pandas analysis\n",
    "\n",
    "This exercise consists in analyzing a dataset containg timing information from a series of Time-to-Digital-Converters (TDC) implemented in a couple of FPGAs. Each measurement (i.e. each row of the input file) consists of a flag that specifies the type of message ('HEAD', which in this case is always 1), two addresses of the TDC providing the signal ('FPGA' and 'TDC_CHANNEL'), and the timing information ('ORBIT_CNT', 'BX_COUNTER', and 'TDC_MEAS'). Each TDC count corresponds to 25/30 ns, whereas a unit of BX_COUNTER corresponds to 25 ns, and the ORBIT_CNT is increased every 'x' BX_COUNTER. This allows to store the time in a similar way to hours, minutes and seconds."
   ],
   "metadata": {}
  },
  {
   "cell_type": "code",
   "execution_count": null,
   "source": [
    "# If you didn't download it yet, please get the relevant file now!\n",
    "!wget https://www.dropbox.com/s/xvjzaxzz3ysphme/data_000637.txt -P ~/data/"
   ],
   "outputs": [],
   "metadata": {}
  },
  {
   "cell_type": "markdown",
   "source": [
    "1\\. Create a Pandas DataFrame reading N rows of the 'data_000637.txt' dataset. Choose N to be smaller than or equal to the maximum number of rows and larger that 10k.\n",
    "\n",
    "2\\. Find out the number of BX in a ORBIT (the value 'x').\n",
    "\n",
    "3\\. Find out how much the data taking lasted. You can either make an estimate based on the fraction of the measurements (rows) you read, or perform this check precisely by reading out the whole dataset.\n",
    "\n",
    "4\\. Create a new column with the absolute time in ns (as a combination of the other three columns with timing information).\n",
    "\n",
    "5\\. Replace the values (all 1) of the HEAD column randomly with 0 or 1.\n",
    "\n",
    "6\\. Create a new DataFrame that contains only the rows with HEAD=1.\n",
    "\n",
    "7\\. Make two occupancy plots (one for each FPGA), i.e. plot the number of counts per TDC channel\n",
    "\n",
    "8\\. Use the groupby method to find out the noisy channels, i.e. the TDC channels with most counts (say the top 3)\n",
    "\n",
    "9\\. Count the number of unique orbits. Count the number of unique orbits with at least one measurement from TDC_CHANNEL=139"
   ],
   "metadata": {}
  },
  {
   "cell_type": "markdown",
   "source": [
    "**TASK (1)**"
   ],
   "metadata": {}
  },
  {
   "cell_type": "code",
   "execution_count": 1,
   "source": [
    "import pandas as pd\n",
    "import numpy as np\n",
    "import matplotlib.pyplot as plt\n",
    "# get the N of rows in dataset\n",
    "out = ! wc -l ~/data/data_000637.txt\n",
    "N = int(out[0].split(\" \")[0])\n",
    "print(N)\n",
    "# we will just read them all\n",
    "df = pd.read_csv('~/data/data_000637.txt',nrows=N)\n",
    "\n",
    "# sorting by time measure\n",
    "df = df.sort_values([\"ORBIT_CNT\",\"BX_COUNTER\",\"TDC_MEAS\"])"
   ],
   "outputs": [
    {
     "output_type": "stream",
     "name": "stdout",
     "text": [
      "1310721\n"
     ]
    }
   ],
   "metadata": {}
  },
  {
   "cell_type": "markdown",
   "source": [
    "**TASK (2)**\n",
    "Grouping the dataframe by different values of `BX_COUNTER`, we see how many times a single digit appears; since the distribution appears to be pretty uniform we can safely assume that the highest recorded digit is the maximum value `BX_COUNTER` can get before adding a unit to `ORBIT_CNT`."
   ],
   "metadata": {}
  },
  {
   "cell_type": "code",
   "execution_count": 2,
   "source": [
    "#df.sort_values([\"ORBIT_CNT\",\"BX_COUNTER\",\"TDC_MEAS\"]).head(20)\n",
    "print(df.groupby(\"BX_COUNTER\").count())\n",
    "print(\"ORBIT_CNT triggers when {} BX_COUNTER has been reached.\".format(df[\"BX_COUNTER\"].max()+1))"
   ],
   "outputs": [
    {
     "output_type": "stream",
     "name": "stdout",
     "text": [
      "            HEAD  FPGA  TDC_CHANNEL  ORBIT_CNT  TDC_MEAS\n",
      "BX_COUNTER                                              \n",
      "0            354   354          354        354       354\n",
      "1            355   355          355        355       355\n",
      "2            345   345          345        345       345\n",
      "3            340   340          340        340       340\n",
      "4            363   363          363        363       363\n",
      "...          ...   ...          ...        ...       ...\n",
      "3559         329   329          329        329       329\n",
      "3560         330   330          330        330       330\n",
      "3561         385   385          385        385       385\n",
      "3562         328   328          328        328       328\n",
      "3563         351   351          351        351       351\n",
      "\n",
      "[3564 rows x 5 columns]\n",
      "ORBIT_CNT triggers when 3564 BX_COUNTER has been reached.\n"
     ]
    }
   ],
   "metadata": {}
  },
  {
   "cell_type": "markdown",
   "source": [
    "**TASK (3) + (4)**\n",
    "Let's do task 4 first and use it to calculate total recording time. We create a new column `ns` to calculate absolute time and then a simple `max`-`min` revelas how long the data taking lasted."
   ],
   "metadata": {}
  },
  {
   "cell_type": "code",
   "execution_count": 3,
   "source": [
    "df[\"ns\"] = df[\"ORBIT_CNT\"]*3564*25 + df[\"BX_COUNTER\"]*25 + df[\"TDC_MEAS\"]*25/30\n",
    "total_time_ns = df[\"ns\"].max() - df[\"ns\"].min()\n",
    "print(\"Data taking lasted for {:.5} milliseconds.\".format(total_time_ns*1e-6))\n",
    "\n"
   ],
   "outputs": [
    {
     "output_type": "stream",
     "name": "stdout",
     "text": [
      "Data taking lasted for 980.42 milliseconds.\n"
     ]
    }
   ],
   "metadata": {}
  },
  {
   "cell_type": "markdown",
   "source": [
    "**TASK (5)**"
   ],
   "metadata": {}
  },
  {
   "cell_type": "code",
   "execution_count": 4,
   "source": [
    "df[\"HEAD\"]=np.random.randint(2,size=df[\"HEAD\"].shape)\n",
    "df[\"HEAD\"].describe() # we should see a mean and std equal to about 0.5"
   ],
   "outputs": [
    {
     "output_type": "execute_result",
     "data": {
      "text/plain": [
       "count    1.310720e+06\n",
       "mean     4.999596e-01\n",
       "std      5.000002e-01\n",
       "min      0.000000e+00\n",
       "25%      0.000000e+00\n",
       "50%      0.000000e+00\n",
       "75%      1.000000e+00\n",
       "max      1.000000e+00\n",
       "Name: HEAD, dtype: float64"
      ]
     },
     "metadata": {},
     "execution_count": 4
    }
   ],
   "metadata": {}
  },
  {
   "cell_type": "markdown",
   "source": [
    "**TASK (6)**"
   ],
   "metadata": {}
  },
  {
   "cell_type": "code",
   "execution_count": 5,
   "source": [
    "df_half = df[df[\"HEAD\"]==1]\n",
    "df_half.head()"
   ],
   "outputs": [
    {
     "output_type": "execute_result",
     "data": {
      "text/html": [
       "<div>\n",
       "<style scoped>\n",
       "    .dataframe tbody tr th:only-of-type {\n",
       "        vertical-align: middle;\n",
       "    }\n",
       "\n",
       "    .dataframe tbody tr th {\n",
       "        vertical-align: top;\n",
       "    }\n",
       "\n",
       "    .dataframe thead th {\n",
       "        text-align: right;\n",
       "    }\n",
       "</style>\n",
       "<table border=\"1\" class=\"dataframe\">\n",
       "  <thead>\n",
       "    <tr style=\"text-align: right;\">\n",
       "      <th></th>\n",
       "      <th>HEAD</th>\n",
       "      <th>FPGA</th>\n",
       "      <th>TDC_CHANNEL</th>\n",
       "      <th>ORBIT_CNT</th>\n",
       "      <th>BX_COUNTER</th>\n",
       "      <th>TDC_MEAS</th>\n",
       "      <th>ns</th>\n",
       "    </tr>\n",
       "  </thead>\n",
       "  <tbody>\n",
       "    <tr>\n",
       "      <th>0</th>\n",
       "      <td>1</td>\n",
       "      <td>0</td>\n",
       "      <td>123</td>\n",
       "      <td>3869200167</td>\n",
       "      <td>2374</td>\n",
       "      <td>26</td>\n",
       "      <td>3.447457e+14</td>\n",
       "    </tr>\n",
       "    <tr>\n",
       "      <th>1</th>\n",
       "      <td>1</td>\n",
       "      <td>0</td>\n",
       "      <td>124</td>\n",
       "      <td>3869200167</td>\n",
       "      <td>2374</td>\n",
       "      <td>27</td>\n",
       "      <td>3.447457e+14</td>\n",
       "    </tr>\n",
       "    <tr>\n",
       "      <th>2</th>\n",
       "      <td>1</td>\n",
       "      <td>0</td>\n",
       "      <td>63</td>\n",
       "      <td>3869200167</td>\n",
       "      <td>2553</td>\n",
       "      <td>28</td>\n",
       "      <td>3.447457e+14</td>\n",
       "    </tr>\n",
       "    <tr>\n",
       "      <th>4</th>\n",
       "      <td>1</td>\n",
       "      <td>0</td>\n",
       "      <td>64</td>\n",
       "      <td>3869200167</td>\n",
       "      <td>2760</td>\n",
       "      <td>25</td>\n",
       "      <td>3.447457e+14</td>\n",
       "    </tr>\n",
       "    <tr>\n",
       "      <th>5</th>\n",
       "      <td>1</td>\n",
       "      <td>0</td>\n",
       "      <td>63</td>\n",
       "      <td>3869200167</td>\n",
       "      <td>2762</td>\n",
       "      <td>4</td>\n",
       "      <td>3.447457e+14</td>\n",
       "    </tr>\n",
       "  </tbody>\n",
       "</table>\n",
       "</div>"
      ],
      "text/plain": [
       "   HEAD  FPGA  TDC_CHANNEL   ORBIT_CNT  BX_COUNTER  TDC_MEAS            ns\n",
       "0     1     0          123  3869200167        2374        26  3.447457e+14\n",
       "1     1     0          124  3869200167        2374        27  3.447457e+14\n",
       "2     1     0           63  3869200167        2553        28  3.447457e+14\n",
       "4     1     0           64  3869200167        2760        25  3.447457e+14\n",
       "5     1     0           63  3869200167        2762         4  3.447457e+14"
      ]
     },
     "metadata": {},
     "execution_count": 5
    }
   ],
   "metadata": {}
  },
  {
   "cell_type": "markdown",
   "source": [
    "**TASK (7)**"
   ],
   "metadata": {}
  },
  {
   "cell_type": "code",
   "execution_count": 6,
   "source": [
    "df.groupby(\"FPGA\").hist(\"TDC_CHANNEL\",bins=df[\"TDC_CHANNEL\"].max())"
   ],
   "outputs": [
    {
     "output_type": "execute_result",
     "data": {
      "text/plain": [
       "FPGA\n",
       "0    [[AxesSubplot(0.125,0.125;0.775x0.755)]]\n",
       "1    [[AxesSubplot(0.125,0.125;0.775x0.755)]]\n",
       "dtype: object"
      ]
     },
     "metadata": {},
     "execution_count": 6
    },
    {
     "output_type": "display_data",
     "data": {
      "image/png": "[encoded data removed]",
      "text/plain": [
       "<Figure size 432x288 with 1 Axes>"
      ]
     },
     "metadata": {
      "needs_background": "light"
     }
    },
    {
     "output_type": "display_data",
     "data": {
      "image/png": "[encoded data removed]",
      "text/plain": [
       "<Figure size 432x288 with 1 Axes>"
      ]
     },
     "metadata": {
      "needs_background": "light"
     }
    }
   ],
   "metadata": {}
  },
  {
   "cell_type": "markdown",
   "source": [
    "**TASK (8)**"
   ],
   "metadata": {}
  },
  {
   "cell_type": "code",
   "execution_count": 7,
   "source": [
    "tdc_count=df.groupby([\"FPGA\",\"TDC_CHANNEL\"]).size()\n",
    "print(\"Top 3 noisy channels of FPGA #0: \")\n",
    "print(tdc_count[0].sort_values(ascending=False)[:3])\n",
    "print(\"Top 3 noisy channels of FPGA #1: \")\n",
    "print(tdc_count[1].sort_values(ascending=False)[:3])"
   ],
   "outputs": [
    {
     "output_type": "stream",
     "name": "stdout",
     "text": [
      "Top 3 noisy channels of FPGA #0: \n",
      "TDC_CHANNEL\n",
      "139    75617\n",
      "64     64581\n",
      "63     63724\n",
      "dtype: int64\n",
      "Top 3 noisy channels of FPGA #1: \n",
      "TDC_CHANNEL\n",
      "2      32669\n",
      "139    32442\n",
      "1      28438\n",
      "dtype: int64\n"
     ]
    }
   ],
   "metadata": {}
  },
  {
   "cell_type": "markdown",
   "source": [
    "**TASK (9)**"
   ],
   "metadata": {}
  },
  {
   "cell_type": "code",
   "execution_count": 8,
   "source": [
    "print(\"There are {} distinct orbit values.\".format(df.groupby([\"ORBIT_CNT\"]).ngroups))\n",
    "print(\"Channel 139 counted {} distinct orbit values.\".format(df[df[\"TDC_CHANNEL\"]==139].groupby(\"ORBIT_CNT\").ngroups))"
   ],
   "outputs": [
    {
     "output_type": "stream",
     "name": "stdout",
     "text": [
      "There are 11001 distinct orbit values.\n",
      "Channel 139 counted 10976 distinct orbit values.\n"
     ]
    }
   ],
   "metadata": {}
  }
 ],
 "metadata": {
  "kernelspec": {
   "name": "python3",
   "display_name": "Python 3.8.8 64-bit ('base': conda)"
  },
  "language_info": {
   "codemirror_mode": {
    "name": "ipython",
    "version": 3
   },
   "file_extension": ".py",
   "mimetype": "text/x-python",
   "name": "python",
   "nbconvert_exporter": "python",
   "pygments_lexer": "ipython3",
   "version": "3.8.8"
  },
  "interpreter": {
   "hash": "a3c34d53b0b4d70da62f7b5a080d8239056f030c25ec722ce0a2734d501a65c4"
  }
 },
 "nbformat": 4,
 "nbformat_minor": 2
}