{
 "cells": [
  {
   "cell_type": "markdown",
   "metadata": {},
   "source": [
    "1\\. Write the following as a list comprehension"
   ]
  },
  {
   "cell_type": "code",
   "execution_count": 1,
   "metadata": {},
   "outputs": [
    {
     "name": "stdout",
     "output_type": "stream",
     "text": [
      "[(0, 0), (0, 1), (0, 2), (0, 3), (1, 0), (1, 1), (1, 2), (1, 3), (2, 0), (2, 1), (2, 2), (2, 3)]\n",
      "[0, 4, 16]\n"
     ]
    }
   ],
   "source": [
    "# 1\n",
    "ans = []\n",
    "for i in range(3):\n",
    "    for j in range(4):\n",
    "        ans.append((i, j))\n",
    "print (ans)\n",
    "\n",
    "# 2\n",
    "ans = map(lambda x: x*x, filter(lambda x: x%2 == 0, range(5)))\n",
    "print (list(ans))\n",
    "\n"
   ]
  },
  {
   "cell_type": "code",
   "execution_count": 2,
   "metadata": {},
   "outputs": [
    {
     "name": "stdout",
     "output_type": "stream",
     "text": [
      "[(0, 0), (0, 1), (0, 2), (0, 3), (1, 0), (1, 1), (1, 2), (1, 3), (2, 0), (2, 1), (2, 2), (2, 3)]\n",
      "[0, 4, 16]\n"
     ]
    }
   ],
   "source": [
    "# SOLUTION\n",
    "ans = [(i,j) for i in range(3) for j in range(4)]\n",
    "print(ans)\n",
    "\n",
    "ans = [x**2 for x in filter(lambda y:y%2==0,range(5))]\n",
    "print(ans)"
   ]
  },
  {
   "cell_type": "markdown",
   "metadata": {},
   "source": [
    "2\\. Convert the following function into a pure function with no global variables or side effects"
   ]
  },
  {
   "cell_type": "code",
   "execution_count": 6,
   "metadata": {},
   "outputs": [
    {
     "name": "stdout",
     "output_type": "stream",
     "text": [
      "[1, 2, 3, 0, 1, 2, 3, 4]\n",
      "[1, 2, 3, 0, 1, 2, 3, 4]\n"
     ]
    }
   ],
   "source": [
    "x = 5\n",
    "def f(alist):\n",
    "    for i in range(x):\n",
    "         alist.append(i)\n",
    "    return alist\n",
    "\n",
    "alist = [1,2,3]\n",
    "ans = f(alist)\n",
    "print (ans)\n",
    "print (alist) # alist has been changed!"
   ]
  },
  {
   "cell_type": "code",
   "execution_count": 8,
   "metadata": {},
   "outputs": [
    {
     "name": "stdout",
     "output_type": "stream",
     "text": [
      "['a', 4, True, 0, 1, 2, 3, 4]\n",
      "['a', 4, True]\n"
     ]
    }
   ],
   "source": [
    "# SOLUTION\n",
    "\n",
    "def f(somelist,x):\n",
    "    return somelist+[y for y in range(x)]\n",
    "\n",
    "somelist=[\"a\",4,True]\n",
    "print(f(somelist,5))\n",
    "print(somelist)\n",
    "    "
   ]
  },
  {
   "cell_type": "markdown",
   "metadata": {},
   "source": [
    "3\\. Write a `decorator` hello that makes every wrapped function print “Hello!”, i.e. something like:\n",
    "\n",
    "```python\n",
    "@hello\n",
    "def square(x):\n",
    "    return x*x\n",
    "```\n",
    "\n"
   ]
  },
  {
   "cell_type": "code",
   "execution_count": 16,
   "metadata": {},
   "outputs": [
    {
     "name": "stdout",
     "output_type": "stream",
     "text": [
      "Hello!\n",
      "27\n",
      "Hello!\n",
      "How are you?\n"
     ]
    }
   ],
   "source": [
    "# SOLUTION\n",
    "def hello(func):\n",
    "    def say_hello(*args):\n",
    "        print(\"Hello!\")\n",
    "        return func(*args)\n",
    "    return say_hello\n",
    "\n",
    "@hello\n",
    "def cube(x):\n",
    "    return x*x*x\n",
    "\n",
    "@hello\n",
    "def howare():\n",
    "    print('How are you?')\n",
    "\n",
    "print(cube(3))\n",
    "\n",
    "howare()\n"
   ]
  },
  {
   "cell_type": "markdown",
   "metadata": {},
   "source": [
    "4\\. Write the factorial function so that it a) does and b) does not use recursion."
   ]
  },
  {
   "cell_type": "code",
   "execution_count": 27,
   "metadata": {},
   "outputs": [
    {
     "name": "stdout",
     "output_type": "stream",
     "text": [
      "40320\n",
      "40320\n"
     ]
    }
   ],
   "source": [
    "#SOLUTION\n",
    "def factorialA(n):\n",
    "    if n>1:\n",
    "        return factorialA(n-1)*n\n",
    "    elif n==1: return 1\n",
    "    \n",
    "print(factorialA(8))\n",
    "\n",
    "def factorialB(n):\n",
    "    tot=1\n",
    "    for i in range(2,n+1):\n",
    "        tot*=i\n",
    "    return tot\n",
    "\n",
    "print(factorialB(8))\n",
    "\n"
   ]
  },
  {
   "cell_type": "markdown",
   "metadata": {},
   "source": [
    "5\\. Use HOFs (zip in particular) to compute the weight of a circle, a disk and a sphere, assuming different radii and different densities:\n",
    "\n",
    "```python\n",
    "densities = {\"Al\":[0.5,1,2],\"Fe\":[3,4,5],\"Pb\": [15,20,30]}\n",
    "radii = [1,2,3]\n",
    "```\n",
    "\n",
    "where the entries of the dictionary's values are the linear, superficial and volumetric densities of the materials respectively.\n",
    "\n",
    "In particular define a list of three lambda functions using a comprehension that computes the circumference, the area and the volume for a given radius.\n"
   ]
  },
  {
   "cell_type": "code",
   "execution_count": 2,
   "metadata": {},
   "outputs": [
    {
     "name": "stdout",
     "output_type": "stream",
     "text": [
      "A circle of radius 1 made out of Al weights 3.141592653589793\n",
      "A disk of radius 1 made out of Al weights 3.141592653589793\n",
      "A sphere of radius 1 made out of Al weights 4.71238898038469\n",
      "A circle of radius 2 made out of Al weights 6.283185307179586\n",
      "A disk of radius 2 made out of Al weights 12.566370614359172\n",
      "A sphere of radius 2 made out of Al weights 37.69911184307752\n",
      "A circle of radius 3 made out of Al weights 9.42477796076938\n",
      "A disk of radius 3 made out of Al weights 28.274333882308138\n",
      "A sphere of radius 3 made out of Al weights 127.23450247038662\n",
      "A circle of radius 1 made out of Fe weights 18.84955592153876\n",
      "A disk of radius 1 made out of Fe weights 12.566370614359172\n",
      "A sphere of radius 1 made out of Fe weights 11.780972450961723\n",
      "A circle of radius 2 made out of Fe weights 37.69911184307752\n",
      "A disk of radius 2 made out of Fe weights 50.26548245743669\n",
      "A sphere of radius 2 made out of Fe weights 94.24777960769379\n",
      "A circle of radius 3 made out of Fe weights 56.548667764616276\n",
      "A disk of radius 3 made out of Fe weights 113.09733552923255\n",
      "A sphere of radius 3 made out of Fe weights 318.0862561759665\n",
      "A circle of radius 1 made out of Pb weights 94.24777960769379\n",
      "A disk of radius 1 made out of Pb weights 62.83185307179586\n",
      "A sphere of radius 1 made out of Pb weights 70.68583470577035\n",
      "A circle of radius 2 made out of Pb weights 188.49555921538757\n",
      "A disk of radius 2 made out of Pb weights 251.32741228718345\n",
      "A sphere of radius 2 made out of Pb weights 565.4866776461628\n",
      "A circle of radius 3 made out of Pb weights 282.7433388230814\n",
      "A disk of radius 3 made out of Pb weights 565.4866776461628\n",
      "A sphere of radius 3 made out of Pb weights 1908.5175370557993\n"
     ]
    }
   ],
   "source": [
    "from math import pi\n",
    "# SOLUTION\n",
    "\n",
    "# this is weird; we have to do this because b and i are non local to lambdas\n",
    "# that means they are accessed when lambda is called, not defined.\n",
    "# actually defining b=a and i=exp allows us to call them when lambda are defined\n",
    "# in the end, this is a list that contains 3 functions or (r)\n",
    "functions = [lambda r,b=a,i=exp: b*pi*r**i for (a,exp) in [(2,1),(1,2),(0.75,3)]]\n",
    "\n",
    "densities = {\"Al\":[0.5,1,2],\"Fe\":[3,4,5],\"Pb\": [15,20,30]}\n",
    "radii = [1,2,3]\n",
    "names = [\"circle\",\"disk\",\"sphere\"]\n",
    "\n",
    "for element in densities:\n",
    "    for r in radii:\n",
    "        for (f,dens,name) in zip(functions,densities[element],names):\n",
    "            print(\"A {} of radius {} made out of {} weights {}\".format(name,r,element,f(r)*dens))\n",
    "\n"
   ]
  },
  {
   "cell_type": "markdown",
   "metadata": {},
   "source": [
    "6\\. Edit the class defintion to add an instance attribute of is_hungry = True to the Dog class. Then add a method called eat() which changes the value of is_hungry to False when called. Figure out the best way to feed each dog and then output “My dogs are hungry.” if all are hungry or “My dogs are not hungry.” if all are not hungry. The final output should look like this:\n",
    "\n",
    "`I have 3 dogs. \n",
    "Tom is 6. \n",
    "Fletcher is 7. \n",
    "Larry is 9. \n",
    "And they're all mammals, of course. \n",
    "My dogs are not hungry.\n",
    "`\n",
    "\n",
    "```python\n",
    "# Parent class\n",
    "class Dog:\n",
    "\n",
    "    # Class attribute\n",
    "    species = 'mammal'\n",
    "\n",
    "    # Initializer / Instance attributes\n",
    "    def __init__(self, name, age):\n",
    "        self.name = name\n",
    "        self.age = age\n",
    "\n",
    "    # instance method\n",
    "    def description(self):\n",
    "        return \"{} is {} years old\".format(self.name, self.age)\n",
    "\n",
    "    # instance method\n",
    "    def speak(self, sound):\n",
    "        return \"{} says {}\".format(self.name, sound)\n",
    "\n",
    "# Child class (inherits from Dog class)\n",
    "class RussellTerrier(Dog):\n",
    "    def run(self, speed):\n",
    "        return \"{} runs {}\".format(self.name, speed)\n",
    "\n",
    "# Child class (inherits from Dog class)\n",
    "class Bulldog(Dog):\n",
    "    def run(self, speed):\n",
    "        return \"{} runs {}\".format(self.name, speed)\n",
    "```"
   ]
  },
  {
   "cell_type": "code",
   "execution_count": 7,
   "metadata": {},
   "outputs": [
    {
     "name": "stdout",
     "output_type": "stream",
     "text": [
      "I have 3 dogs\n",
      "Tom is 6 years old\n",
      "Fletcher is 7 years old\n",
      "Larry is 9 years old\n",
      "And they're all mammal of course\n",
      "None of my dogs are hungry\n"
     ]
    }
   ],
   "source": [
    "#EXERCISE SOLUTION\n",
    "\n",
    "# Parent class\n",
    "class Dog:\n",
    "\n",
    "    # Class attribute\n",
    "    species = 'mammal'\n",
    "\n",
    "    # Initializer / Instance attributes\n",
    "    def __init__(self, name, age):\n",
    "        self.name = name\n",
    "        self.age = age\n",
    "        self.is_hungry = True\n",
    "\n",
    "    # instance method\n",
    "    def description(self):\n",
    "        return \"{} is {} years old\".format(self.name, self.age)\n",
    "\n",
    "    # instance method\n",
    "    def speak(self, sound):\n",
    "        return \"{} says {}\".format(self.name, sound)\n",
    "    \n",
    "    #satiate method\n",
    "    def eat(self):\n",
    "        self.is_hungry=False\n",
    "\n",
    "# Child class (inherits from Dog class)\n",
    "class RussellTerrier(Dog):\n",
    "    def run(self, speed):\n",
    "        return \"{} runs {}\".format(self.name, speed)\n",
    "\n",
    "# Child class (inherits from Dog class)\n",
    "class Bulldog(Dog):\n",
    "    def run(self, speed):\n",
    "        return \"{} runs {}\".format(self.name, speed)\n",
    "    \n",
    "    \n",
    "dogs = [Dog(\"Tom\",6),Dog(\"Fletcher\",7),Dog(\"Larry\",9)]\n",
    "\n",
    "print(\"I have {} dogs\".format(len(dogs)))\n",
    "\n",
    "for dog in dogs:\n",
    "    print(dog.description())\n",
    "    dog.eat()\n",
    "    \n",
    "print(\"And they're all {} of course\".format(dogs[1].species))\n",
    "\n",
    "if True not in map(lambda x: x.is_hungry, dogs):\n",
    "    print(\"None of my dogs are hungry\")\n",
    "elif False not in map(lambda x: x.is_hungry, dogs):\n",
    "    print(\"All of my dogs are hungry\")\n",
    "else:\n",
    "    print(\"Some dogs are hungry, some aren't. That's life\")"
   ]
  },
  {
   "cell_type": "code",
   "execution_count": null,
   "metadata": {},
   "outputs": [],
   "source": []
  }
 ],
 "metadata": {
  "kernelspec": {
   "display_name": "Python 3",
   "language": "python",
   "name": "python3"
  },
  "language_info": {
   "codemirror_mode": {
    "name": "ipython",
    "version": 3
   },
   "file_extension": ".py",
   "mimetype": "text/x-python",
   "name": "python",
   "nbconvert_exporter": "python",
   "pygments_lexer": "ipython3",
   "version": "3.8.8"
  }
 },
 "nbformat": 4,
 "nbformat_minor": 2
}
