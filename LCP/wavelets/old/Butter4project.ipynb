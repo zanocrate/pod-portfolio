{
 "cells": [
  {
   "cell_type": "code",
   "execution_count": null,
   "id": "b6bbd7a7",
   "metadata": {},
   "outputs": [],
   "source": [
    "def butter_filter(data_frame,sensor,cutoff,order,sampling_rate,unit,component_name):\n",
    "    \n",
    "    sos = signal.butter(order, cutoff, 'lp', fs=sampling_rate, output='sos')\n",
    "    filt_sensor = signal.sosfilt(sos, sensor)\n",
    "    sample_spacing = 1/sampling_rate\n",
    "\n",
    "    filt_sensor_FT=fft.fft(filt_sensor)\n",
    "    filt_sensor_FT_freq=fft.fftfreq(filt_sensor.size,sample_spacing)\n",
    "    N = int(filt_sensor_FT_freq.size/2) \n",
    "    filt_sensor_freq_pos = filt_sensor_FT_freq[:N]\n",
    "    filt_sensor_FT_pos = np.abs(filt_sensor_FT[:N])\n",
    "    \n",
    "    with plt.rc_context({\"figure.figsize\" : (20,3)}):\n",
    "        fig,axs = plt.subplots(1,2)\n",
    "        axs[0].plot(data_frame.index,filt_sensor)\n",
    "        axs[0].set_title(component_name)\n",
    "        axs[0].set_xlabel('time [s]')\n",
    "        axs[0].set_ylabel(unit)\n",
    "        axs[1].plot(filt_sensor_FT_freq[:N],np.abs(filt_sensor_FT[:N]))\n",
    "        axs[1].set_title(\"FT\")\n",
    "        axs[1].set_xlabel('frequency [Hz]')\n",
    "        axs[1].set_ylabel('power');\n",
    "        \n",
    "    def f(x,a,b,c,d):\n",
    "        return a*np.exp(-pow(x-b,2)/(2*pow(c,2)))+d \n",
    "    \n",
    "    x=filt_sensor_FT_freq[:N]\n",
    "    y=np.abs(filt_sensor_FT[:N])\n",
    "\n",
    "    zoom=np.where(x<cutoff+0.5)\n",
    "    power_trashold=200\n",
    "\n",
    "    peak=np.where(y==y.max())\n",
    "    peaks=np.array(x[np.where(y>=power_trashold)])\n",
    "    power_peaks=np.array(y[np.where(y>=power_trashold)])\n",
    "    \n",
    "    \n",
    "    mask=np.where(abs(x-x[peak])<=1/np.sqrt(12)) ### da definire meglio\n",
    "    \n",
    "\n",
    "    popt, pcov = curve_fit(f, x[mask], y[mask]) \n",
    "    x_range=np.linspace(x[mask].min(),x[mask].max(),1000) \n",
    "\n",
    "    fig,ax = plt.subplots(1,2,figsize=(20,4))\n",
    "    ax[0].plot(x[zoom],y[zoom])\n",
    "    #ax[0].scatter(peaks,power_peaks,marker='.',color='red')\n",
    "    ax[0].set_title('FT')\n",
    "    ax[0].set_xlabel('frequency [Hz]')\n",
    "    ax[0].set_ylabel('power')\n",
    "    ax[1].plot(x[mask],y[mask])\n",
    "    ax[1].plot(x_range, f(x_range,*popt), c='red', linestyle='dashed' ,label='Gaussian fit',)\n",
    "    ax[1].legend(loc='best')\n",
    "    ax[1].set_title('FT')\n",
    "    ax[1].set_xlabel('frequency [Hz]')\n",
    "    ax[1].set_ylabel('power');\n",
    "\n",
    "    err_perc=abs(popt[2]*100/popt[1])\n",
    "    RR=60*popt[1]\n",
    "    RR_error=popt[2]*60\n",
    "\n",
    "    print(component_name)\n",
    "    print('# of points to perform fit:',len(x[mask]))\n",
    "    print('Fit parametres for RR:\\n', popt, '\\n')\n",
    "    print('Respiratory rate estimated: {:.2} +/- {:.2}'.format(RR, RR_error))\n",
    "    print('Percentage of error: {:.2} % \\n'.format(err_perc))\n",
    "    \n",
    "    return RR, RR_error"
   ]
  },
  {
   "cell_type": "code",
   "execution_count": null,
   "id": "39cbb890",
   "metadata": {},
   "outputs": [],
   "source": [
    "butter_filter(df,magnT[:,1],0.5,10,sampling_rate,'[G]','Second magnetoscope PCA component filtred')"
   ]
  },
  {
   "cell_type": "code",
   "execution_count": null,
   "id": "d3588c53",
   "metadata": {},
   "outputs": [],
   "source": [
    "##### secondo dataset"
   ]
  },
  {
   "cell_type": "code",
   "execution_count": null,
   "id": "1ebb7e62",
   "metadata": {},
   "outputs": [],
   "source": [
    "selected_PCA_df2=[accT2[:,0],gyroT2[:,0],magnT2[:,0]]\n",
    "units=['[mg]','[DPS]','[G]']\n",
    "component_name=['First accelerometer PCA component filtred', 'First gyroscope PCA component filtred','First magnetoscope PCA component filtred']\n",
    "RR_butter1=np.zeros(len(selected_PCA_df2))\n",
    "RR_butter_error1=np.zeros(len(selected_PCA_df2))\n",
    "\n",
    "for id,(i,j,k) in enumerate(zip(selected_PCA_df2,units,component_name)):   \n",
    "    RR_butter1[id],RR_butter_error1[id]=butter_filter(df2,i,0.5,10,sampling_rate,j,k) \n",
    "    "
   ]
  },
  {
   "cell_type": "code",
   "execution_count": null,
   "id": "5b4cabf6",
   "metadata": {},
   "outputs": [],
   "source": [
    "av_butter,av_butter_error=np.average(RR_butter,weights=1/RR_butter_error,returned=True)\n",
    "av_butter_error_perc=abs((av_butter_error*100)/av_butter)\n",
    "\n",
    "print('RR estimeted via weighted average: {:.2} +/- {:.2}'.format(av_butter,av_butter_error))\n",
    "print('Percentage of error: {:.2} % \\n'.format(av_butter_error_perc))"
   ]
  },
  {
   "cell_type": "code",
   "execution_count": null,
   "id": "b5e09aad",
   "metadata": {},
   "outputs": [],
   "source": []
  }
 ],
 "metadata": {
  "kernelspec": {
   "display_name": "Python 3 (ipykernel)",
   "language": "python",
   "name": "python3"
  },
  "language_info": {
   "codemirror_mode": {
    "name": "ipython",
    "version": 3
   },
   "file_extension": ".py",
   "mimetype": "text/x-python",
   "name": "python",
   "nbconvert_exporter": "python",
   "pygments_lexer": "ipython3",
   "version": "3.9.10"
  }
 },
 "nbformat": 4,
 "nbformat_minor": 5
}
